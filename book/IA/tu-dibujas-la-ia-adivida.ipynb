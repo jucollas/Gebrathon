{
 "cells": [
  {
   "cell_type": "markdown",
   "id": "dd0dcfc7",
   "metadata": {},
   "source": [
    "# 📘 Experimento Interactivo: \"Dibuja tu Número y la IA lo Adivina\"\n",
    "\n",
    "## 🔧 Requisitos\n",
    "\n",
    "```bash\n",
    "pip install ipywidgets scikit-learn matplotlib\n",
    "```\n",
    "\n",
    "Y en Jupyter, activa widgets:\n",
    "\n",
    "```bash\n",
    "jupyter nbextension enable --py widgetsnbextension\n",
    "```\n",
    "\n",
    "\n",
    "### 🚀 Código\n"
   ]
  },
  {
   "cell_type": "code",
   "execution_count": 2,
   "id": "ccdc2b2e",
   "metadata": {},
   "outputs": [
    {
     "name": "stdout",
     "output_type": "stream",
     "text": [
      "Precisión del modelo en test: 0.975\n"
     ]
    },
    {
     "data": {
      "application/vnd.jupyter.widget-view+json": {
       "model_id": "f5823ca249474dd3925e247498058953",
       "version_major": 2,
       "version_minor": 0
      },
      "text/plain": [
       "HBox(children=(Button(description='🧹 Limpiar', style=ButtonStyle()), Button(description='🔮 Predecir', style=Bu…"
      ]
     },
     "metadata": {},
     "output_type": "display_data"
    },
    {
     "data": {
      "application/vnd.jupyter.widget-view+json": {
       "model_id": "2cc01d99c34f4e46a175c052faf9bcdc",
       "version_major": 2,
       "version_minor": 0
      },
      "text/plain": [
       "Output()"
      ]
     },
     "metadata": {},
     "output_type": "display_data"
    },
    {
     "data": {
      "image/png": "[encoded data removed]",
      "text/plain": [
       "<Figure size 300x300 with 1 Axes>"
      ]
     },
     "metadata": {},
     "output_type": "display_data"
    }
   ],
   "source": [
    "import numpy as np\n",
    "import matplotlib.pyplot as plt\n",
    "from sklearn.datasets import load_digits\n",
    "from sklearn.linear_model import LogisticRegression\n",
    "from sklearn.model_selection import train_test_split\n",
    "from sklearn.metrics import accuracy_score\n",
    "import ipywidgets as widgets\n",
    "from IPython.display import display, clear_output\n",
    "\n",
    "# ============================\n",
    "# 1. Entrenar el modelo\n",
    "# ============================\n",
    "digits = load_digits()\n",
    "X_train, X_test, y_train, y_test = train_test_split(digits.data, digits.target, test_size=0.2, random_state=42)\n",
    "\n",
    "modelo = LogisticRegression(max_iter=2000)\n",
    "modelo.fit(X_train, y_train)\n",
    "\n",
    "print(\"Precisión del modelo en test:\", accuracy_score(y_test, modelo.predict(X_test)))\n",
    "\n",
    "# ============================\n",
    "# 2. Crear lienzo interactivo\n",
    "# ============================\n",
    "\n",
    "canvas_size = 8  # 8x8 píxeles (igual al dataset)\n",
    "drawing = np.zeros((canvas_size, canvas_size))\n",
    "\n",
    "fig, ax = plt.subplots(figsize=(3,3))\n",
    "img_plot = ax.imshow(drawing, cmap=\"gray\", vmin=0, vmax=16)\n",
    "ax.axis(\"off\")\n",
    "\n",
    "# Widget botón para limpiar\n",
    "button_clear = widgets.Button(description=\"🧹 Limpiar\")\n",
    "button_predict = widgets.Button(description=\"🔮 Predecir\")\n",
    "\n",
    "output = widgets.Output()\n",
    "\n",
    "# Función para actualizar el dibujo cuando se hace clic en la imagen\n",
    "def onclick(event):\n",
    "    if event.inaxes == ax:\n",
    "        x, y = int(event.xdata), int(event.ydata)\n",
    "        if 0 <= x < canvas_size and 0 <= y < canvas_size:\n",
    "            drawing[y, x] = 16  # intensidad máxima\n",
    "            img_plot.set_data(drawing)\n",
    "            fig.canvas.draw()\n",
    "\n",
    "# Conectar evento\n",
    "cid = fig.canvas.mpl_connect(\"button_press_event\", onclick)\n",
    "\n",
    "# Limpiar lienzo\n",
    "def clear_canvas(b):\n",
    "    global drawing\n",
    "    drawing = np.zeros((canvas_size, canvas_size))\n",
    "    img_plot.set_data(drawing)\n",
    "    fig.canvas.draw()\n",
    "    with output:\n",
    "        clear_output()\n",
    "\n",
    "button_clear.on_click(clear_canvas)\n",
    "\n",
    "# Predecir\n",
    "def predict_digit(b):\n",
    "    X = drawing.flatten().reshape(1, -1)\n",
    "    pred = modelo.predict(X)[0]\n",
    "    probas = modelo.predict_proba(X)[0]\n",
    "    with output:\n",
    "        clear_output()\n",
    "        print(f\"👉 Predicción del modelo: {pred}\")\n",
    "        print(\"Probabilidades por clase:\", np.round(probas, 2))\n",
    "\n",
    "button_predict.on_click(predict_digit)\n",
    "\n",
    "# Mostrar interfaz\n",
    "display(widgets.HBox([button_clear, button_predict]))\n",
    "display(output)\n",
    "plt.show()\n"
   ]
  },
  {
   "cell_type": "markdown",
   "id": "d772cd76",
   "metadata": {},
   "source": [
    "### 🎮 Cómo funciona\n",
    "\n",
    "1. El estudiante **dibuja clickeando en los cuadros del lienzo 8x8**.\n",
    "2. Puede presionar **“Predecir”** y el modelo de regresión logística dirá cuál número cree que es.\n",
    "3. Si se equivoca, pueden discutir **qué significa en términos de álgebra lineal (espacio de características, distancias, proyecciones, etc.)**."
   ]
  }
 ],
 "metadata": {
  "kernelspec": {
   "display_name": ".env",
   "language": "python",
   "name": "python3"
  },
  "language_info": {
   "codemirror_mode": {
    "name": "ipython",
    "version": 3
   },
   "file_extension": ".py",
   "mimetype": "text/x-python",
   "name": "python",
   "nbconvert_exporter": "python",
   "pygments_lexer": "ipython3",
   "version": "3.13.7"
  }
 },
 "nbformat": 4,
 "nbformat_minor": 5
}
