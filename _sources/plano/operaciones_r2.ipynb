{
 "cells": [
  {
   "cell_type": "markdown",
   "id": "783cfdfc",
   "metadata": {},
   "source": [
    "# 📘 Operaciones en $\\mathbb{R}^2$\n",
    "\n",
    "En esta clase repasaremos los conceptos fundamentales de los **vectores en $\\mathbb{R}^2$**, la **suma de vectores**, la **multiplicación por escalar**, las **normas** y la **proyección de un vector sobre otro**."
   ]
  },
  {
   "cell_type": "markdown",
   "id": "e2ac5031",
   "metadata": {},
   "source": [
    "## 🔹 Vectores en $\\mathbb{R}^2$\n",
    "\n",
    "### Definición\n",
    "Un **vector** en $\\mathbb{R}^2$ es un par ordenado de números reales:\n",
    "$$\n",
    "\\mathbf{v} = (v_1, v_2), \\quad v_1,v_2 \\in \\mathbb{R}.\n",
    "$$\n",
    "\n",
    "También se puede escribir en forma de columna:\n",
    "$$\n",
    "\\mathbf{v}=\\begin{pmatrix}v_1\\\\v_2\\end{pmatrix}.\n",
    "$$\n",
    "\n",
    "### Interpretación Geométrica\n",
    "- Se representa como un **segmento dirigido** en el plano cartesiano desde el origen $(0,0)$ hasta $(v_1,v_2)$.  \n",
    "- Su **longitud** y **dirección** describen el vector.\n",
    "\n",
    "---\n",
    "\n",
    "## ➕ Suma de Vectores\n",
    "\n",
    "### Definición\n",
    "Dado $\\mathbf{u}=(u_1,u_2)$ y $\\mathbf{v}=(v_1,v_2)$:\n",
    "$$\n",
    "\\mathbf{u}+\\mathbf{v} = (u_1+v_1, \\, u_2+v_2).\n",
    "$$\n",
    "\n",
    "### Interpretación Geométrica\n",
    "- **Regla del paralelogramo** o método **cabeza-cola**.\n",
    "\n",
    "### Ejemplo\n",
    "$$\n",
    "\\mathbf{u}=(2,3),\\quad \\mathbf{v}=(-1,5).\n",
    "$$\n",
    "Entonces:\n",
    "$$\n",
    "\\mathbf{u}+\\mathbf{v}=(1,8).\n",
    "$$"
   ]
  },
  {
   "cell_type": "markdown",
   "id": "5af1da5f",
   "metadata": {},
   "source": [
    "## ✖️ Multiplicación por Escalar\n",
    "\n",
    "### Definición\n",
    "Si $\\alpha \\in \\mathbb{R}$ y $\\mathbf{v}=(v_1,v_2)$:\n",
    "$$\n",
    "\\alpha \\mathbf{v} = (\\alpha v_1, \\alpha v_2).\n",
    "$$\n",
    "\n",
    "### Interpretación\n",
    "- Estira o encoge el vector.  \n",
    "- Si $\\alpha<0$, invierte su dirección.  \n",
    "\n",
    "### Ejemplo\n",
    "$$\n",
    "\\mathbf{v}=(2,-1),\\quad 3\\mathbf{v}=(6,-3).\n",
    "$$"
   ]
  },
  {
   "cell_type": "markdown",
   "id": "af31d1ab",
   "metadata": {},
   "source": [
    "## ⚖️ Propiedades\n",
    "\n",
    "1. Conmutatividad: $\\mathbf{u}+\\mathbf{v}=\\mathbf{v}+\\mathbf{u}$  \n",
    "2. Asociatividad: $(\\mathbf{u}+\\mathbf{v})+\\mathbf{w}=\\mathbf{u}+(\\mathbf{v}+\\mathbf{w})$  \n",
    "3. Neutro: $\\mathbf{v}+\\mathbf{0}=\\mathbf{v}$  \n",
    "4. Inverso: $\\mathbf{v}+(-\\mathbf{v})=\\mathbf{0}$  \n",
    "5. Distributividad: $\\alpha(\\mathbf{u}+\\mathbf{v})=\\alpha\\mathbf{u}+\\alpha\\mathbf{v}$  \n",
    "6. Asociatividad escalar: $\\alpha(\\beta\\mathbf{v})=(\\alpha\\beta)\\mathbf{v}$  \n",
    "7. Identidad: $1\\mathbf{v}=\\mathbf{v}$  "
   ]
  },
  {
   "cell_type": "markdown",
   "id": "6947bd47",
   "metadata": {},
   "source": [
    "## 📏 Normas de un Vector\n",
    "\n",
    "La norma mide la **longitud** de un vector.\n",
    "\n",
    "### Norma Euclidiana ($L_2$)\n",
    "$$\n",
    "\\|\\mathbf{v}\\|_2 = \\sqrt{v_1^2+v_2^2}.\n",
    "$$\n",
    "\n",
    "Ejemplo:  \n",
    "Si $\\mathbf{v}=(3,4)$ entonces $\\|\\mathbf{v}\\|_2=5$.\n",
    "\n",
    "### Otras Normas\n",
    "- $L_1$: $\\|\\mathbf{v}\\|_1=|v_1|+|v_2|$  \n",
    "- $L_\\infty$: $\\|\\mathbf{v}\\|_\\infty=\\max(|v_1|,|v_2|)$  "
   ]
  },
  {
   "cell_type": "code",
   "execution_count": null,
   "id": "ffdaa542",
   "metadata": {},
   "outputs": [],
   "source": [
    "import numpy as np\n",
    "import matplotlib.pyplot as plt\n",
    "\n",
    "valores_de_p = [1,2]\n",
    "colores = ['red','blue']\n",
    "\n",
    "x = np.linspace(-1,1,1000)\n",
    "\n",
    "plt.figure(figsize=(8,6))\n",
    "for j,p in enumerate(valores_de_p):\n",
    "    y = (1 - np.abs(x)**p)**(1/p)\n",
    "    plt.plot(x,y,color=colores[j],label=f\"L_{p}\")\n",
    "    plt.plot(x,-y,color=colores[j])\n",
    "plt.axis(\"equal\")\n",
    "plt.grid(True)\n",
    "plt.legend()\n",
    "plt.title(\"Circunferencias en diferentes normas\")\n",
    "plt.show()"
   ]
  },
  {
   "cell_type": "markdown",
   "id": "d70857c0",
   "metadata": {},
   "source": [
    "## Ejercicio\n",
    "\n",
    "¿Cómo sería la circunferencia en la norma infinito?"
   ]
  },
  {
   "cell_type": "code",
   "execution_count": null,
   "id": "17863a43",
   "metadata": {},
   "outputs": [],
   "source": []
  },
  {
   "cell_type": "markdown",
   "id": "d056f223",
   "metadata": {},
   "source": [
    "\n",
    "## 🎯 Proyección de un Vector\n",
    "\n",
    "### Definición\n",
    "\n",
    "$$\n",
    "\\text{proj}_{\\mathbf{v}}(\\mathbf{u})=\\frac{\\mathbf{u}\\cdot\\mathbf{v}}{\\mathbf{v}\\cdot\\mathbf{v}}\\mathbf{v}.\n",
    "$$\n",
    "\n",
    "### Ejemplo\n",
    "\n",
    "Sea \\$\\mathbf{u}=(2,1)\\$ y \\$\\mathbf{v}=(3,0)\\$:\n",
    "\n",
    "$$\n",
    "\\text{proj}_{\\mathbf{v}}(\\mathbf{u})=(2,0).\n",
    "$$\n",
    "\n",
    "---\n",
    "\n",
    "## 📌 Resumen\n",
    "\n",
    "1. Vectores en \\$\\mathbb{R}^2\\$: pares ordenados.\n",
    "2. Suma: componente a componente.\n",
    "3. Multiplicación por escalar: escala magnitud y puede invertir dirección.\n",
    "4. Norma: longitud del vector.\n",
    "5. Proyección: parte de un vector en la dirección de otro.\n"
   ]
  },
  {
   "cell_type": "code",
   "execution_count": null,
   "id": "964e53ec",
   "metadata": {},
   "outputs": [],
   "source": [
    "import numpy as np\n",
    "u = np.array([3,-6])\n",
    "v = np.array([-1,4])\n",
    "print(\"u =\", u)\n",
    "print(\"v =\", v)\n",
    "print(\"u+v =\", u+v)\n",
    "print(\"2u =\", 2*u)\n",
    "print(\"||u|| =\", np.linalg.norm(u))\n",
    "print(\"Proyección de u sobre v =\", np.dot(u,v)/np.dot(v,v)*v)"
   ]
  }
 ],
 "metadata": {
  "kernelspec": {
   "display_name": ".env",
   "language": "python",
   "name": "python3"
  },
  "language_info": {
   "name": "python",
   "version": "3.13.7"
  }
 },
 "nbformat": 4,
 "nbformat_minor": 5
}
