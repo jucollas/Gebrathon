{
 "cells": [
  {
   "cell_type": "markdown",
   "id": "b53c623f",
   "metadata": {},
   "source": [
    "# 👋 Bienvenido a la Herramienta de Álgebra Lineal Aplicada a la Computación\n",
    "\n",
    "¡Hola y bienvenido! 🚀  \n",
    "\n",
    "Esta plataforma ha sido diseñada para **aprender, explorar y aplicar** los conceptos de **álgebra lineal** en el contexto de la **computación**.  \n",
    "Aquí encontrarás ejemplos interactivos, explicaciones paso a paso y actividades prácticas que te ayudarán a conectar la teoría con aplicaciones reales.\n",
    "\n",
    "---\n",
    "\n",
    "## 🎯 ¿Qué podrás hacer aquí?\n",
    "- Explorar conceptos fundamentales de álgebra lineal como **vectores, matrices, transformaciones lineales y valores propios**.  \n",
    "- Comprender cómo estos conceptos se utilizan en **programación, gráficos por computadora, inteligencia artificial y ciencia de datos**.  \n",
    "- Resolver problemas con la ayuda de **código en Python** que podrás ejecutar y modificar.  \n",
    "- Aprender de forma dinámica, con una experiencia pensada para estudiantes de **Álgebra Lineal en Computación** de la Universidad Javeriana Cali.\n",
    "\n",
    "---\n",
    "\n",
    "## 🚀 Comienza tu recorrido\n",
    "1. Dirígete al menú lateral.  \n",
    "2. Selecciona un tema de tu interés.  \n",
    "3. Sigue los ejemplos y **experimenta con el código**.  \n",
    "\n",
    "---\n",
    "\n",
    "✨ ¡Esperamos que disfrutes de esta experiencia y que el álgebra lineal se convierta en una herramienta poderosa para tu desarrollo en computación!  \n"
   ]
  }
 ],
 "metadata": {
  "kernelspec": {
   "display_name": "Python 3",
   "language": "python",
   "name": "python3"
  },
  "language_info": {
   "codemirror_mode": {
    "name": "ipython",
    "version": 3
   },
   "file_extension": ".py",
   "mimetype": "text/x-python",
   "name": "python",
   "nbconvert_exporter": "python",
   "pygments_lexer": "ipython3",
   "version": "3.7.3"
  }
 },
 "nbformat": 4,
 "nbformat_minor": 5
}
