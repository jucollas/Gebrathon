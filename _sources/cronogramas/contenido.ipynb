{
 "cells": [
  {
   "cell_type": "markdown",
   "id": "c9cc6559",
   "metadata": {},
   "source": [
    "# 📅 Cronogramas de la Asignatura\n",
    "\n",
    "Esta sección está dedicada a los **cronogramas planeados** para la materia de **Álgebra Lineal**.  \n",
    "\n",
    "Los cronogramas están organizados y **divididos por semestre**, de manera que puedas consultar fácilmente las actividades, temas y evaluaciones correspondientes a cada periodo académico.\n",
    "\n",
    "---\n",
    "\n",
    "## 🔎 ¿Qué encontrarás aquí?\n",
    "- La planificación semanal de los temas de clase.  \n",
    "- Fechas de **parciales y trabajos computacionales**.  \n",
    "- Una guía estructurada que te permitirá seguir el avance de la materia paso a paso.  \n",
    "\n",
    "---\n",
    "\n",
    "✨ Usa esta sección como referencia durante el curso para mantenerte al día con los contenidos y evaluaciones.  \n"
   ]
  }
 ],
 "metadata": {
  "language_info": {
   "name": "python"
  }
 },
 "nbformat": 4,
 "nbformat_minor": 5
}
